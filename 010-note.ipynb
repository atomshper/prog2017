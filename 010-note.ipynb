{
 "cells": [
  {
   "cell_type": "code",
   "execution_count": 1,
   "metadata": {
    "collapsed": false
   },
   "outputs": [
    {
     "data": {
      "text/plain": [
       "True"
      ]
     },
     "execution_count": 1,
     "metadata": {},
     "output_type": "execute_result"
    }
   ],
   "source": [
    "x=1\n",
    "\n",
    "0<x and x <10"
   ]
  },
  {
   "cell_type": "code",
   "execution_count": 2,
   "metadata": {
    "collapsed": false
   },
   "outputs": [
    {
     "data": {
      "text/plain": [
       "True"
      ]
     },
     "execution_count": 2,
     "metadata": {},
     "output_type": "execute_result"
    }
   ],
   "source": [
    "0< x or x <0"
   ]
  },
  {
   "cell_type": "code",
   "execution_count": 16,
   "metadata": {
    "collapsed": false
   },
   "outputs": [
    {
     "name": "stdout",
     "output_type": "stream",
     "text": [
      "名前は太郎，10歳，体重は20.6Kgです。\n"
     ]
    }
   ],
   "source": [
    "#問題120\n",
    "# coding:utf-8\n",
    "name = '太郎'\n",
    "age = 10\n",
    "weight = 20.567\n",
    "print('名前は{0}，{1}歳，体重は{2:.1f}Kgです。'.format(name, age, weight))"
   ]
  },
  {
   "cell_type": "code",
   "execution_count": 21,
   "metadata": {
    "collapsed": false
   },
   "outputs": [
    {
     "data": {
      "text/plain": [
       "'名前は太郎、年齢は100です'"
      ]
     },
     "execution_count": 21,
     "metadata": {},
     "output_type": "execute_result"
    }
   ],
   "source": [
    "'名前は{0}、年齢は{1}です'.format('太郎',100)"
   ]
  },
  {
   "cell_type": "code",
   "execution_count": 10,
   "metadata": {
    "collapsed": false
   },
   "outputs": [
    {
     "data": {
      "text/plain": [
       "'名前は太郎、年齢は100です'"
      ]
     },
     "execution_count": 10,
     "metadata": {},
     "output_type": "execute_result"
    }
   ],
   "source": [
    "'名前は'+'太郎'+'、年齢は'+str(100)+'です'"
   ]
  },
  {
   "cell_type": "code",
   "execution_count": 15,
   "metadata": {
    "collapsed": true
   },
   "outputs": [],
   "source": [
    "#SQLインジェクション、、IN10には攻撃できるが、IN14には攻撃できない。\n",
    "#globalization（なんでもＯＫ）とlocalization（日本語版、英語版にしたりする）"
   ]
  },
  {
   "cell_type": "code",
   "execution_count": 22,
   "metadata": {
    "collapsed": false
   },
   "outputs": [
    {
     "name": "stdout",
     "output_type": "stream",
     "text": [
      "何か入力してください：こんにちは\n",
      "入力されたのは「{0}」です。\n"
     ]
    }
   ],
   "source": [
    "#問題121\n",
    "myStr=input('何か入力してください：')\n",
    "print('入力されたのは「{0}」です。')"
   ]
  },
  {
   "cell_type": "code",
   "execution_count": 2,
   "metadata": {
    "collapsed": false
   },
   "outputs": [
    {
     "name": "stdout",
     "output_type": "stream",
     "text": [
      "こんにちは\n",
      "身長（m）？172\n",
      "身長は172mですね\n",
      "体重（kg）？54\n",
      "体重は54kgですね\n",
      "BMIは0.0018253109789075177です\n",
      "約0.0です\n"
     ]
    }
   ],
   "source": [
    "#問題122\n",
    "# coding:utf-8\n",
    "print('こんにちは')\n",
    "h = input('身長（m）？')\n",
    "print('身長は{0}mですね'.format(h))\n",
    "w = input('体重（kg）？')\n",
    "print('体重は{0}kgですね'.format(w))\n",
    "bmi = float(w) / float(h) ** 2\n",
    "print('BMIは{0}です'.format(bmi))\n",
    "print('約{0:.1f}です'.format(bmi))"
   ]
  },
  {
   "cell_type": "markdown",
   "metadata": {},
   "source": [
    "#問題123\n",
    "for，if，whileといったキーワードで始まる行は必ず（  ）で終わり，次の行は行頭で（  ）キーを使ってインデントする。"
   ]
  },
  {
   "cell_type": "markdown",
   "metadata": {},
   "source": [
    "#問題125\n",
    "条件が成立するときだけ処理を実行するには，if文を使います。\n",
    "条件が成立しなかったときの処理を追加するには，if文の後に，（else）で新しいブロックを作ります。\n",
    "条件が成立しなかった場合にさらに新たな条件で絞り込むには，（elseif）を使います。"
   ]
  },
  {
   "cell_type": "markdown",
   "metadata": {},
   "source": [
    "#問題126\n",
    "while文やfor文の途中で繰り返し処理を終了し\n",
    "ブロックを抜け出したいときはキーワード（break）を使い\n",
    "次の繰り返し処理へスキップしたいときは，（continute）を使います."
   ]
  },
  {
   "cell_type": "code",
   "execution_count": 5,
   "metadata": {
    "collapsed": false
   },
   "outputs": [
    {
     "data": {
      "text/plain": [
       "b'\\xe3\\x81\\x82'"
      ]
     },
     "execution_count": 5,
     "metadata": {},
     "output_type": "execute_result"
    }
   ],
   "source": [
    "#問題127\n",
    "'あ'.encode('utf-8')　　"
   ]
  },
  {
   "cell_type": "code",
   "execution_count": 7,
   "metadata": {
    "collapsed": false
   },
   "outputs": [
    {
     "data": {
      "text/plain": [
       "b'\\x82\\xa0'"
      ]
     },
     "execution_count": 7,
     "metadata": {},
     "output_type": "execute_result"
    }
   ],
   "source": [
    "'あ'.encode('cp932')     #16進数"
   ]
  },
  {
   "cell_type": "code",
   "execution_count": null,
   "metadata": {
    "collapsed": true
   },
   "outputs": [],
   "source": []
  }
 ],
 "metadata": {
  "kernelspec": {
   "display_name": "Python 3",
   "language": "python",
   "name": "python3"
  },
  "language_info": {
   "codemirror_mode": {
    "name": "ipython",
    "version": 3
   },
   "file_extension": ".py",
   "mimetype": "text/x-python",
   "name": "python",
   "nbconvert_exporter": "python",
   "pygments_lexer": "ipython3",
   "version": "3.6.0"
  }
 },
 "nbformat": 4,
 "nbformat_minor": 2
}
