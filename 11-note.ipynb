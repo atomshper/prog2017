{
 "cells": [
  {
   "cell_type": "code",
   "execution_count": 6,
   "metadata": {
    "collapsed": false
   },
   "outputs": [],
   "source": [
    "#128\n",
    "with open('c:/cit/test.txt', 'w', encoding='utf-8')as test_file:\n",
    "   test_file.write('Hello!')    #ファイルcitの中にHello!と書かれたテキストファイルが作成される。\n",
    "#with open(ファイル名,'w',encording='utf-8')as 変数名\n",
    "#変数名を使ったプログラム\n",
    "#'w'は、writeの略称で、ファイルに書き込めという命令。\n",
    "#'utf-8'という方法（文字を数字に変換する）で書き込めという命令。"
   ]
  },
  {
   "cell_type": "code",
   "execution_count": 7,
   "metadata": {
    "collapsed": true
   },
   "outputs": [],
   "source": [
    "#129\n",
    "with open('c:/cit/test.txt', 'a', encoding='utf-8') as test_file:\n",
    "    test_file.write('Hello, World!')\n",
    "#'w'は上書きするが、'a'(attend)は、追記をする。"
   ]
  },
  {
   "cell_type": "code",
   "execution_count": 16,
   "metadata": {
    "collapsed": false
   },
   "outputs": [],
   "source": [
    "#130\n",
    "with open('c:/cit/record.txt', 'w', encoding='utf-8')as ensyu_file:\n",
    "    for x in range(1,101):\n",
    "        ensyu_file.write(str(x)+'\\n')\n",
    "#ensyu_fileというテキストファイルに1~100の数字を書き込む。"
   ]
  },
  {
   "cell_type": "code",
   "execution_count": 17,
   "metadata": {
    "collapsed": true
   },
   "outputs": [],
   "source": [
    "#131\n",
    "with open('c:/cit/record.csv', 'w', encoding='utf-8')as en_file:\n",
    "    for i in range(1,10):\n",
    "        for j in range(1,10):\n",
    "            en_file.write(str(i * j)+',')\n",
    "        en_file.write('\\n')\n",
    "#en_file（九九の段が入力されているエクセル）を作成する。"
   ]
  },
  {
   "cell_type": "code",
   "execution_count": null,
   "metadata": {
    "collapsed": true
   },
   "outputs": [],
   "source": []
  }
 ],
 "metadata": {
  "kernelspec": {
   "display_name": "Python 3",
   "language": "python",
   "name": "python3"
  },
  "language_info": {
   "codemirror_mode": {
    "name": "ipython",
    "version": 3
   },
   "file_extension": ".py",
   "mimetype": "text/x-python",
   "name": "python",
   "nbconvert_exporter": "python",
   "pygments_lexer": "ipython3",
   "version": "3.6.0"
  }
 },
 "nbformat": 4,
 "nbformat_minor": 2
}
